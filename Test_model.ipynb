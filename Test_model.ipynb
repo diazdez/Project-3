{
 "cells": [
  {
   "cell_type": "code",
   "execution_count": 7,
   "id": "wanted-paste",
   "metadata": {},
   "outputs": [],
   "source": [
    "import joblib\n",
    "import pandas as pd\n",
    "\n",
    "#Load the saved model\n",
    "model = joblib.load('finalized_model.sav')"
   ]
  },
  {
   "cell_type": "code",
   "execution_count": 8,
   "id": "desperate-context",
   "metadata": {},
   "outputs": [
    {
     "data": {
      "text/plain": [
       "array(['Y'], dtype=object)"
      ]
     },
     "execution_count": 8,
     "metadata": {},
     "output_type": "execute_result"
    }
   ],
   "source": [
    "#Inputs for prediction\n",
    "model.predict(pd.DataFrame.from_dict({'Gender': ['Female'],\n",
    " 'Married': ['No'],\n",
    " 'Dependents': ['0'],\n",
    " 'Education': ['Graduate'],\n",
    " 'Self_Employed': ['No'],\n",
    " 'ApplicantIncome': [4000],\n",
    " 'CoapplicantIncome': [0],\n",
    " 'LoanAmount': [500],\n",
    " 'Loan_Amount_Term': [360.0],\n",
    " 'Credit_History': [1.0],\n",
    " 'Property_Area': ['Urban']}))\n"
   ]
  },
  {
   "cell_type": "code",
   "execution_count": null,
   "id": "fifth-elizabeth",
   "metadata": {},
   "outputs": [],
   "source": []
  }
 ],
 "metadata": {
  "kernelspec": {
   "display_name": "Python [conda env:PythonAdv] *",
   "language": "python",
   "name": "conda-env-PythonAdv-py"
  },
  "language_info": {
   "codemirror_mode": {
    "name": "ipython",
    "version": 3
   },
   "file_extension": ".py",
   "mimetype": "text/x-python",
   "name": "python",
   "nbconvert_exporter": "python",
   "pygments_lexer": "ipython3",
   "version": "3.6.12"
  }
 },
 "nbformat": 4,
 "nbformat_minor": 5
}
