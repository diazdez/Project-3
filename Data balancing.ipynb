{
 "cells": [
  {
   "cell_type": "code",
   "execution_count": 1,
   "id": "nervous-crack",
   "metadata": {},
   "outputs": [],
   "source": [
    "#SMOTE (Synthetic Minority Oversampling Technique)\n",
    "# #!pip install -U imbalanced-learn\n",
    "# import imblearn"
   ]
  },
  {
   "cell_type": "code",
   "execution_count": 2,
   "id": "bored-provision",
   "metadata": {},
   "outputs": [],
   "source": [
    "# # Generate and plot a synthetic imbalanced classification dataset\n",
    "# from collections import Counter\n",
    "# from sklearn.datasets import make_classification\n",
    "# from matplotlib import pyplot\n",
    "# from numpy import where\n",
    "\n",
    "# # define dataset\n",
    "# X, y = make_classification(n_samples=10000, n_features=2, n_redundant=0,\n",
    "#                            n_clusters_per_class=1, weights=[0.99], flip_y=0, random_state=1)\n",
    "# # summarize class distribution\n",
    "# counter = Counter(y)\n",
    "# print(counter)\n",
    "\n",
    "# # scatter plot of examples by class label\n",
    "# for label, _ in counter.items():\n",
    "#     row_ix = where(y == label)[0]\n",
    "#     pyplot.scatter(X[row_ix, 0], X[row_ix, 1], label=str(label))\n",
    "# pyplot.legend()\n",
    "# pyplot.show()"
   ]
  },
  {
   "cell_type": "code",
   "execution_count": 3,
   "id": "racial-boating",
   "metadata": {},
   "outputs": [],
   "source": [
    "#The SMOTE class acts like a data transform object from scikit-learn in that it must be \n",
    "#defined and configured, fit on a dataset, then applied to create a new transformed version of \n",
    "#the dataset.\n",
    "\n",
    "#For example, we can define a SMOTE instance with default parameters that will balance the \n",
    "#minority class and then fit and apply it in one step to create a transformed version of our \n",
    "# #dataset.\n",
    "\n",
    "# from imblearn.over_sampling import SMOTE\n",
    "\n",
    "# # transform the dataset\n",
    "# oversample = SMOTE()\n",
    "# X, y = oversample.fit_resample(X, y)\n",
    "\n",
    "# # summarize the new class distribution\n",
    "# counter = Counter(y)\n",
    "# print(counter)\n",
    "\n",
    "# # scatter plot of examples by class label\n",
    "# for label, _ in counter.items():\n",
    "#     row_ix = where(y == label)[0]\n",
    "#     pyplot.scatter(X[row_ix, 0], X[row_ix, 1], label=str(label))\n",
    "# pyplot.legend()\n",
    "# pyplot.show()\n",
    "\n",
    "# #Note: many more examples for the minority class on lines between the original examples \n",
    "# #in the minority class"
   ]
  },
  {
   "cell_type": "code",
   "execution_count": 4,
   "id": "ecological-advice",
   "metadata": {},
   "outputs": [],
   "source": [
    "# # create/define dataset\n",
    "# X, y = make_classification(n_samples=10000, n_features=2, n_redundant=0,\n",
    "#                            n_clusters_per_class=1, weights=[0.99], flip_y=0, random_state=1)\n",
    "# # summarize class distribution\n",
    "# counter = Counter(y)\n",
    "# print(counter)\n",
    "\n",
    "# #1)Oversample minority to have 10% of majority (1000)\n",
    "# #2)Undersample majority to have 50% more than minority (2000)\n",
    "# from imblearn.under_sampling import RandomUnderSampler\n",
    "# # define pipeline\n",
    "# over = SMOTE(sampling_strategy=0.1)\n",
    "# under = RandomUnderSampler(sampling_strategy=0.5)\n",
    "\n",
    "# #Chain two transforms into a Pipeline. Pipeline is applied to dataset performing each transformation\n",
    "# #in turn and returning final dataset with accumulation of transoform applied to it \n",
    "# #(i.e. oversampling followed by undersampling)\n",
    "# from imblearn.pipeline import Pipeline\n",
    "# steps = [('o', over), ('u', under)]\n",
    "# pipeline = Pipeline(steps=steps)\n",
    "\n",
    "# #The pipeline can then be fit and applied to our dataset just like a single transform:\n",
    "# # transform the dataset\n",
    "# X, y = pipeline.fit_resample(X, y)\n",
    "\n",
    "# # summarize the new class distribution\n",
    "# counter = Counter(y)\n",
    "# print(counter)\n",
    "# # scatter plot of examples by class label\n",
    "# for label, _ in counter.items():\n",
    "#     row_ix = where(y == label)[0]\n",
    "#     pyplot.scatter(X[row_ix, 0], X[row_ix, 1], label=str(label))\n",
    "# pyplot.legend()\n",
    "# pyplot.show()\n",
    "\n",
    "#Plot shows 1:2 ratio: undersampled majority class and oversampled minority class\n"
   ]
  },
  {
   "cell_type": "code",
   "execution_count": 5,
   "id": "monthly-american",
   "metadata": {},
   "outputs": [],
   "source": [
    "#SMOTE for Classification\n",
    "\n",
    "#WITHOUT SMOT\n",
    "#1) Use binary classification dataset, fit & evaluate decision tree algorithm\n",
    "#2) Algorithm is defined with default hyperparameters\n",
    "#3) Use repeated stratified k-fold cross-validation to evaluate the model: We will use three \n",
    "#repeats of 10-fold cross-validation, meaning that 10-fold cross-validation is applied three \n",
    "#times fitting and evaluating 30 models on the dataset.\n",
    "#4) Dataset is stratified: each fold of the cross-validation split will have the same \n",
    "#class distribution as the original dataset, in this case, a 1:100 ratio\n",
    "#5) Evaluate using ROC area under curve (AUC) metric. \n",
    "\n",
    "# # decision tree evaluated on imbalanced dataset\n",
    "# from numpy import mean\n",
    "# from sklearn.datasets import make_classification\n",
    "# from sklearn.model_selection import cross_val_score\n",
    "# from sklearn.model_selection import RepeatedStratifiedKFold\n",
    "# from sklearn.tree import DecisionTreeClassifier\n",
    "\n",
    "# # define dataset\n",
    "# X, y = make_classification(n_samples=10000, n_features=2, n_redundant=0,\n",
    "#                            n_clusters_per_class=1, weights=[0.99], flip_y=0, random_state=1)\n",
    "\n",
    "# # define model\n",
    "# model = DecisionTreeClassifier()\n",
    "\n",
    "# # evaluate pipeline\n",
    "# cv = RepeatedStratifiedKFold(n_splits=10, n_repeats=3, random_state=1)\n",
    "# scores = cross_val_score(model, X, y, scoring='roc_auc', cv=cv, n_jobs=-1)\n",
    "\n",
    "# #Once fit, we can calculate and report the mean of the scores across the folds and repeats.\n",
    "# print('Mean ROC AUC: %.3f' % mean(scores))"
   ]
  },
  {
   "cell_type": "code",
   "execution_count": 6,
   "id": "inclusive-selling",
   "metadata": {},
   "outputs": [],
   "source": [
    "#Same WITH SMOTE-transformed version of dataset\n",
    "#1) apply method to training dataset only\n",
    "# #2) evaluate the model on the stratified but non-transformed test set\n",
    "\n",
    "# # decision tree evaluated on imbalanced dataset with SMOTE oversampling\n",
    "# from numpy import mean\n",
    "# from sklearn.datasets import make_classification\n",
    "# from sklearn.model_selection import cross_val_score\n",
    "# from sklearn.model_selection import RepeatedStratifiedKFold\n",
    "# from sklearn.tree import DecisionTreeClassifier\n",
    "# from imblearn.pipeline import Pipeline\n",
    "# from imblearn.over_sampling import SMOTE\n",
    "\n",
    "# # define dataset\n",
    "# X, y = make_classification(n_samples=10000, n_features=2, n_redundant=0,\n",
    "#                            n_clusters_per_class=1, weights=[0.99], flip_y=0, random_state=1)\n",
    "\n",
    "# # define pipeline that first transforms the training dataset with SMOTE then fits the model\n",
    "# steps = [('over', SMOTE()), ('model', DecisionTreeClassifier())]\n",
    "# pipeline = Pipeline(steps=steps)\n",
    "\n",
    "# # evaluate pipeline using repeated k-fold cross-validation\n",
    "# cv = RepeatedStratifiedKFold(n_splits=10, n_repeats=3, random_state=1)\n",
    "# scores = cross_val_score(pipeline, X, y, scoring='roc_auc', cv=cv, n_jobs=-1)\n",
    "# print('Mean ROC AUC: %.3f' % mean(scores))\n",
    "\n"
   ]
  },
  {
   "cell_type": "code",
   "execution_count": 7,
   "id": "useful-hawaiian",
   "metadata": {},
   "outputs": [],
   "source": [
    "#Same with SMOTE & random undersampling of majority class\n",
    "\n",
    "# from numpy import mean\n",
    "# from sklearn.datasets import make_classification\n",
    "# from sklearn.model_selection import cross_val_score\n",
    "# from sklearn.model_selection import RepeatedStratifiedKFold\n",
    "# from sklearn.tree import DecisionTreeClassifier\n",
    "# from imblearn.pipeline import Pipeline\n",
    "# from imblearn.over_sampling import SMOTE\n",
    "# from imblearn.under_sampling import RandomUnderSampler\n",
    "\n",
    "# # define dataset\n",
    "# X, y = make_classification(n_samples=10000, n_features=2, n_redundant=0,\n",
    "#                            n_clusters_per_class=1, weights=[0.99], flip_y=0, random_state=1)\n",
    "\n",
    "# # define pipeline\n",
    "# model = DecisionTreeClassifier()\n",
    "\n",
    "# #oversample the minority class with SMOTE to about a 1:10 ratio\n",
    "# over = SMOTE(sampling_strategy=0.1)\n",
    "\n",
    "# #undersample the majority class to achieve about a 1:2 ratio\n",
    "# under = RandomUnderSampler(sampling_strategy=0.5)\n",
    "# #You could explore testing different ratios of the minority class and majority class \n",
    "# #(e.g. changing the sampling_strategy argument) to see if a further lift in performance is \n",
    "# #possible.\n",
    "\n",
    "# steps = [('over', over), ('under', under), ('model', model)]\n",
    "# pipeline = Pipeline(steps=steps)\n",
    "\n",
    "# # evaluate pipeline\n",
    "# cv = RepeatedStratifiedKFold(n_splits=10, n_repeats=3, random_state=1)\n",
    "# scores = cross_val_score(pipeline, X, y, scoring='roc_auc', cv=cv, n_jobs=-1)\n",
    "# print('Mean ROC AUC: %.3f' % mean(scores))"
   ]
  },
  {
   "cell_type": "code",
   "execution_count": 8,
   "id": "biological-termination",
   "metadata": {},
   "outputs": [],
   "source": [
    "#test different values of the k-nearest neighbors selected in the SMOTE procedure when each \n",
    "#new synthetic example is created\n",
    "#grid search a range of values of k, such as values from 1 to 7, and evaluate the pipeline for each value.\n",
    "\n",
    "# # define dataset\n",
    "# X, y = make_classification(n_samples=10000, n_features=2, n_redundant=0,\n",
    "#                            n_clusters_per_class=1, weights=[0.99], flip_y=0, random_state=1)\n",
    "\n",
    "# # values to evaluate\n",
    "# k_values = [1, 2, 3, 4, 5, 6, 7]\n",
    "# for k in k_values:\n",
    "    \n",
    "#     # define pipeline\n",
    "#     model = DecisionTreeClassifier()\n",
    "#     #SMOTE oversampling with different k values for the KNN used in the procedure\n",
    "#     over = SMOTE(sampling_strategy=0.1, k_neighbors=k)\n",
    "#     #random undersampling and fitting a decision tree on the resulting training dataset\n",
    "#     under = RandomUnderSampler(sampling_strategy=0.5)\n",
    "#     steps = [('over', over), ('under', under), ('model', model)]\n",
    "#     pipeline = Pipeline(steps=steps)\n",
    "    \n",
    "#     # evaluate pipeline\n",
    "#     cv = RepeatedStratifiedKFold(n_splits=10, n_repeats=3, random_state=1)\n",
    "#     scores = cross_val_score(pipeline, X, y, scoring='roc_auc', cv=cv, n_jobs=-1)\n",
    "#     score = mean(scores)\n",
    "#     print('> k=%d, Mean ROC AUC: %.3f' % (k, score))\n",
    "    \n",
    "# This highlights that both the amount of oversampling and undersampling performed \n",
    "# (sampling_strategy argument) and the number of examples selected from which a partner is \n",
    "# chosen to create a synthetic example (k_neighbors) may be important parameters to select and \n",
    "# tune for your dataset."
   ]
  },
  {
   "cell_type": "markdown",
   "id": "colonial-pickup",
   "metadata": {},
   "source": [
    "## Useful code starts here:"
   ]
  },
  {
   "cell_type": "code",
   "execution_count": 9,
   "id": "metropolitan-somalia",
   "metadata": {},
   "outputs": [],
   "source": [
    "from sklearn.ensemble import RandomForestClassifier\n",
    "from sklearn import tree\n",
    "%matplotlib inline\n",
    "import matplotlib.pyplot as plt\n",
    "import numpy as np\n",
    "import pandas as pd\n",
    "import glob\n",
    "import os"
   ]
  },
  {
   "cell_type": "code",
   "execution_count": 10,
   "id": "grateful-hazard",
   "metadata": {},
   "outputs": [
    {
     "data": {
      "text/html": [
       "<div>\n",
       "<style scoped>\n",
       "    .dataframe tbody tr th:only-of-type {\n",
       "        vertical-align: middle;\n",
       "    }\n",
       "\n",
       "    .dataframe tbody tr th {\n",
       "        vertical-align: top;\n",
       "    }\n",
       "\n",
       "    .dataframe thead th {\n",
       "        text-align: right;\n",
       "    }\n",
       "</style>\n",
       "<table border=\"1\" class=\"dataframe\">\n",
       "  <thead>\n",
       "    <tr style=\"text-align: right;\">\n",
       "      <th></th>\n",
       "      <th>Loan_ID</th>\n",
       "      <th>Gender</th>\n",
       "      <th>Married</th>\n",
       "      <th>Dependents</th>\n",
       "      <th>Education</th>\n",
       "      <th>Self_Employed</th>\n",
       "      <th>ApplicantIncome</th>\n",
       "      <th>CoapplicantIncome</th>\n",
       "      <th>LoanAmount</th>\n",
       "      <th>Loan_Amount_Term</th>\n",
       "      <th>Credit_History</th>\n",
       "      <th>Property_Area</th>\n",
       "      <th>Loan_Status</th>\n",
       "    </tr>\n",
       "  </thead>\n",
       "  <tbody>\n",
       "    <tr>\n",
       "      <th>0</th>\n",
       "      <td>LP001002</td>\n",
       "      <td>Male</td>\n",
       "      <td>No</td>\n",
       "      <td>0</td>\n",
       "      <td>Graduate</td>\n",
       "      <td>No</td>\n",
       "      <td>5849</td>\n",
       "      <td>0.0</td>\n",
       "      <td>NaN</td>\n",
       "      <td>360.0</td>\n",
       "      <td>1.0</td>\n",
       "      <td>Urban</td>\n",
       "      <td>Y</td>\n",
       "    </tr>\n",
       "    <tr>\n",
       "      <th>1</th>\n",
       "      <td>LP001003</td>\n",
       "      <td>Male</td>\n",
       "      <td>Yes</td>\n",
       "      <td>1</td>\n",
       "      <td>Graduate</td>\n",
       "      <td>No</td>\n",
       "      <td>4583</td>\n",
       "      <td>1508.0</td>\n",
       "      <td>128.0</td>\n",
       "      <td>360.0</td>\n",
       "      <td>1.0</td>\n",
       "      <td>Rural</td>\n",
       "      <td>N</td>\n",
       "    </tr>\n",
       "    <tr>\n",
       "      <th>2</th>\n",
       "      <td>LP001005</td>\n",
       "      <td>Male</td>\n",
       "      <td>Yes</td>\n",
       "      <td>0</td>\n",
       "      <td>Graduate</td>\n",
       "      <td>Yes</td>\n",
       "      <td>3000</td>\n",
       "      <td>0.0</td>\n",
       "      <td>66.0</td>\n",
       "      <td>360.0</td>\n",
       "      <td>1.0</td>\n",
       "      <td>Urban</td>\n",
       "      <td>Y</td>\n",
       "    </tr>\n",
       "    <tr>\n",
       "      <th>3</th>\n",
       "      <td>LP001006</td>\n",
       "      <td>Male</td>\n",
       "      <td>Yes</td>\n",
       "      <td>0</td>\n",
       "      <td>Not Graduate</td>\n",
       "      <td>No</td>\n",
       "      <td>2583</td>\n",
       "      <td>2358.0</td>\n",
       "      <td>120.0</td>\n",
       "      <td>360.0</td>\n",
       "      <td>1.0</td>\n",
       "      <td>Urban</td>\n",
       "      <td>Y</td>\n",
       "    </tr>\n",
       "    <tr>\n",
       "      <th>4</th>\n",
       "      <td>LP001008</td>\n",
       "      <td>Male</td>\n",
       "      <td>No</td>\n",
       "      <td>0</td>\n",
       "      <td>Graduate</td>\n",
       "      <td>No</td>\n",
       "      <td>6000</td>\n",
       "      <td>0.0</td>\n",
       "      <td>141.0</td>\n",
       "      <td>360.0</td>\n",
       "      <td>1.0</td>\n",
       "      <td>Urban</td>\n",
       "      <td>Y</td>\n",
       "    </tr>\n",
       "    <tr>\n",
       "      <th>...</th>\n",
       "      <td>...</td>\n",
       "      <td>...</td>\n",
       "      <td>...</td>\n",
       "      <td>...</td>\n",
       "      <td>...</td>\n",
       "      <td>...</td>\n",
       "      <td>...</td>\n",
       "      <td>...</td>\n",
       "      <td>...</td>\n",
       "      <td>...</td>\n",
       "      <td>...</td>\n",
       "      <td>...</td>\n",
       "      <td>...</td>\n",
       "    </tr>\n",
       "    <tr>\n",
       "      <th>609</th>\n",
       "      <td>LP002978</td>\n",
       "      <td>Female</td>\n",
       "      <td>No</td>\n",
       "      <td>0</td>\n",
       "      <td>Graduate</td>\n",
       "      <td>No</td>\n",
       "      <td>2900</td>\n",
       "      <td>0.0</td>\n",
       "      <td>71.0</td>\n",
       "      <td>360.0</td>\n",
       "      <td>1.0</td>\n",
       "      <td>Rural</td>\n",
       "      <td>Y</td>\n",
       "    </tr>\n",
       "    <tr>\n",
       "      <th>610</th>\n",
       "      <td>LP002979</td>\n",
       "      <td>Male</td>\n",
       "      <td>Yes</td>\n",
       "      <td>3+</td>\n",
       "      <td>Graduate</td>\n",
       "      <td>No</td>\n",
       "      <td>4106</td>\n",
       "      <td>0.0</td>\n",
       "      <td>40.0</td>\n",
       "      <td>180.0</td>\n",
       "      <td>1.0</td>\n",
       "      <td>Rural</td>\n",
       "      <td>Y</td>\n",
       "    </tr>\n",
       "    <tr>\n",
       "      <th>611</th>\n",
       "      <td>LP002983</td>\n",
       "      <td>Male</td>\n",
       "      <td>Yes</td>\n",
       "      <td>1</td>\n",
       "      <td>Graduate</td>\n",
       "      <td>No</td>\n",
       "      <td>8072</td>\n",
       "      <td>240.0</td>\n",
       "      <td>253.0</td>\n",
       "      <td>360.0</td>\n",
       "      <td>1.0</td>\n",
       "      <td>Urban</td>\n",
       "      <td>Y</td>\n",
       "    </tr>\n",
       "    <tr>\n",
       "      <th>612</th>\n",
       "      <td>LP002984</td>\n",
       "      <td>Male</td>\n",
       "      <td>Yes</td>\n",
       "      <td>2</td>\n",
       "      <td>Graduate</td>\n",
       "      <td>No</td>\n",
       "      <td>7583</td>\n",
       "      <td>0.0</td>\n",
       "      <td>187.0</td>\n",
       "      <td>360.0</td>\n",
       "      <td>1.0</td>\n",
       "      <td>Urban</td>\n",
       "      <td>Y</td>\n",
       "    </tr>\n",
       "    <tr>\n",
       "      <th>613</th>\n",
       "      <td>LP002990</td>\n",
       "      <td>Female</td>\n",
       "      <td>No</td>\n",
       "      <td>0</td>\n",
       "      <td>Graduate</td>\n",
       "      <td>Yes</td>\n",
       "      <td>4583</td>\n",
       "      <td>0.0</td>\n",
       "      <td>133.0</td>\n",
       "      <td>360.0</td>\n",
       "      <td>0.0</td>\n",
       "      <td>Semiurban</td>\n",
       "      <td>N</td>\n",
       "    </tr>\n",
       "  </tbody>\n",
       "</table>\n",
       "<p>614 rows × 13 columns</p>\n",
       "</div>"
      ],
      "text/plain": [
       "      Loan_ID  Gender Married Dependents     Education Self_Employed  \\\n",
       "0    LP001002    Male      No          0      Graduate            No   \n",
       "1    LP001003    Male     Yes          1      Graduate            No   \n",
       "2    LP001005    Male     Yes          0      Graduate           Yes   \n",
       "3    LP001006    Male     Yes          0  Not Graduate            No   \n",
       "4    LP001008    Male      No          0      Graduate            No   \n",
       "..        ...     ...     ...        ...           ...           ...   \n",
       "609  LP002978  Female      No          0      Graduate            No   \n",
       "610  LP002979    Male     Yes         3+      Graduate            No   \n",
       "611  LP002983    Male     Yes          1      Graduate            No   \n",
       "612  LP002984    Male     Yes          2      Graduate            No   \n",
       "613  LP002990  Female      No          0      Graduate           Yes   \n",
       "\n",
       "     ApplicantIncome  CoapplicantIncome  LoanAmount  Loan_Amount_Term  \\\n",
       "0               5849                0.0         NaN             360.0   \n",
       "1               4583             1508.0       128.0             360.0   \n",
       "2               3000                0.0        66.0             360.0   \n",
       "3               2583             2358.0       120.0             360.0   \n",
       "4               6000                0.0       141.0             360.0   \n",
       "..               ...                ...         ...               ...   \n",
       "609             2900                0.0        71.0             360.0   \n",
       "610             4106                0.0        40.0             180.0   \n",
       "611             8072              240.0       253.0             360.0   \n",
       "612             7583                0.0       187.0             360.0   \n",
       "613             4583                0.0       133.0             360.0   \n",
       "\n",
       "     Credit_History Property_Area Loan_Status  \n",
       "0               1.0         Urban           Y  \n",
       "1               1.0         Rural           N  \n",
       "2               1.0         Urban           Y  \n",
       "3               1.0         Urban           Y  \n",
       "4               1.0         Urban           Y  \n",
       "..              ...           ...         ...  \n",
       "609             1.0         Rural           Y  \n",
       "610             1.0         Rural           Y  \n",
       "611             1.0         Urban           Y  \n",
       "612             1.0         Urban           Y  \n",
       "613             0.0     Semiurban           N  \n",
       "\n",
       "[614 rows x 13 columns]"
      ]
     },
     "execution_count": 10,
     "metadata": {},
     "output_type": "execute_result"
    }
   ],
   "source": [
    "file_df = pd.read_csv(\"Resources/loanData.csv\")\n",
    "file_df\n"
   ]
  },
  {
   "cell_type": "code",
   "execution_count": 11,
   "id": "domestic-collection",
   "metadata": {},
   "outputs": [],
   "source": [
    "from sklearn.ensemble import RandomForestRegressor\n",
    "from sklearn.model_selection import StratifiedKFold\n",
    "\n",
    "import matplotlib.pyplot as plt\n",
    "import numpy as np\n",
    "\n",
    "from sklearn.datasets import fetch_openml\n",
    "from sklearn.ensemble import RandomForestClassifier,GradientBoostingClassifier,ExtraTreesClassifier\n",
    "from sklearn.impute import SimpleImputer\n",
    "from sklearn.inspection import permutation_importance\n",
    "from sklearn.compose import ColumnTransformer\n",
    "from sklearn.model_selection import train_test_split\n",
    "from sklearn.pipeline import Pipeline\n",
    "from sklearn.preprocessing import OneHotEncoder,StandardScaler\n",
    "from sklearn.metrics import roc_auc_score,recall_score,mean_squared_error ,classification_report\n",
    "from sklearn.feature_selection import SelectFromModel\n",
    "from sklearn.linear_model import LogisticRegression\n",
    "from sklearn.linear_model import SGDClassifier"
   ]
  },
  {
   "cell_type": "code",
   "execution_count": 12,
   "id": "divine-ending",
   "metadata": {},
   "outputs": [],
   "source": [
    "import warnings\n",
    "import sklearn\n",
    "import pandas as pd"
   ]
  },
  {
   "cell_type": "code",
   "execution_count": 13,
   "id": "amazing-affairs",
   "metadata": {},
   "outputs": [],
   "source": [
    "# from numpy import mean\n",
    "# from sklearn.datasets import make_classification\n",
    "# from sklearn.model_selection import cross_val_score\n",
    "# from sklearn.model_selection import RepeatedStratifiedKFold\n",
    "# from sklearn.tree import DecisionTreeClassifier\n",
    "# from imblearn.pipeline import Pipeline\n",
    "# from imblearn.over_sampling import SMOTE\n",
    "# from imblearn.under_sampling import RandomUnderSampler\n",
    "# from collections import Counter"
   ]
  },
  {
   "cell_type": "code",
   "execution_count": 14,
   "id": "artificial-sperm",
   "metadata": {},
   "outputs": [
    {
     "data": {
      "text/html": [
       "<div>\n",
       "<style scoped>\n",
       "    .dataframe tbody tr th:only-of-type {\n",
       "        vertical-align: middle;\n",
       "    }\n",
       "\n",
       "    .dataframe tbody tr th {\n",
       "        vertical-align: top;\n",
       "    }\n",
       "\n",
       "    .dataframe thead th {\n",
       "        text-align: right;\n",
       "    }\n",
       "</style>\n",
       "<table border=\"1\" class=\"dataframe\">\n",
       "  <thead>\n",
       "    <tr style=\"text-align: right;\">\n",
       "      <th></th>\n",
       "      <th>0</th>\n",
       "      <th>1</th>\n",
       "      <th>2</th>\n",
       "      <th>3</th>\n",
       "      <th>4</th>\n",
       "    </tr>\n",
       "  </thead>\n",
       "  <tbody>\n",
       "    <tr>\n",
       "      <th>Loan_ID</th>\n",
       "      <td>LP001002</td>\n",
       "      <td>LP001003</td>\n",
       "      <td>LP001005</td>\n",
       "      <td>LP001006</td>\n",
       "      <td>LP001008</td>\n",
       "    </tr>\n",
       "    <tr>\n",
       "      <th>Gender</th>\n",
       "      <td>Male</td>\n",
       "      <td>Male</td>\n",
       "      <td>Male</td>\n",
       "      <td>Male</td>\n",
       "      <td>Male</td>\n",
       "    </tr>\n",
       "    <tr>\n",
       "      <th>Married</th>\n",
       "      <td>No</td>\n",
       "      <td>Yes</td>\n",
       "      <td>Yes</td>\n",
       "      <td>Yes</td>\n",
       "      <td>No</td>\n",
       "    </tr>\n",
       "    <tr>\n",
       "      <th>Dependents</th>\n",
       "      <td>0</td>\n",
       "      <td>1</td>\n",
       "      <td>0</td>\n",
       "      <td>0</td>\n",
       "      <td>0</td>\n",
       "    </tr>\n",
       "    <tr>\n",
       "      <th>Education</th>\n",
       "      <td>Graduate</td>\n",
       "      <td>Graduate</td>\n",
       "      <td>Graduate</td>\n",
       "      <td>Not Graduate</td>\n",
       "      <td>Graduate</td>\n",
       "    </tr>\n",
       "    <tr>\n",
       "      <th>Self_Employed</th>\n",
       "      <td>No</td>\n",
       "      <td>No</td>\n",
       "      <td>Yes</td>\n",
       "      <td>No</td>\n",
       "      <td>No</td>\n",
       "    </tr>\n",
       "    <tr>\n",
       "      <th>ApplicantIncome</th>\n",
       "      <td>5849</td>\n",
       "      <td>4583</td>\n",
       "      <td>3000</td>\n",
       "      <td>2583</td>\n",
       "      <td>6000</td>\n",
       "    </tr>\n",
       "    <tr>\n",
       "      <th>CoapplicantIncome</th>\n",
       "      <td>0</td>\n",
       "      <td>1508</td>\n",
       "      <td>0</td>\n",
       "      <td>2358</td>\n",
       "      <td>0</td>\n",
       "    </tr>\n",
       "    <tr>\n",
       "      <th>LoanAmount</th>\n",
       "      <td>NaN</td>\n",
       "      <td>128</td>\n",
       "      <td>66</td>\n",
       "      <td>120</td>\n",
       "      <td>141</td>\n",
       "    </tr>\n",
       "    <tr>\n",
       "      <th>Loan_Amount_Term</th>\n",
       "      <td>360</td>\n",
       "      <td>360</td>\n",
       "      <td>360</td>\n",
       "      <td>360</td>\n",
       "      <td>360</td>\n",
       "    </tr>\n",
       "    <tr>\n",
       "      <th>Credit_History</th>\n",
       "      <td>1</td>\n",
       "      <td>1</td>\n",
       "      <td>1</td>\n",
       "      <td>1</td>\n",
       "      <td>1</td>\n",
       "    </tr>\n",
       "    <tr>\n",
       "      <th>Property_Area</th>\n",
       "      <td>Urban</td>\n",
       "      <td>Rural</td>\n",
       "      <td>Urban</td>\n",
       "      <td>Urban</td>\n",
       "      <td>Urban</td>\n",
       "    </tr>\n",
       "    <tr>\n",
       "      <th>Loan_Status</th>\n",
       "      <td>Y</td>\n",
       "      <td>N</td>\n",
       "      <td>Y</td>\n",
       "      <td>Y</td>\n",
       "      <td>Y</td>\n",
       "    </tr>\n",
       "  </tbody>\n",
       "</table>\n",
       "</div>"
      ],
      "text/plain": [
       "                          0         1         2             3         4\n",
       "Loan_ID            LP001002  LP001003  LP001005      LP001006  LP001008\n",
       "Gender                 Male      Male      Male          Male      Male\n",
       "Married                  No       Yes       Yes           Yes        No\n",
       "Dependents                0         1         0             0         0\n",
       "Education          Graduate  Graduate  Graduate  Not Graduate  Graduate\n",
       "Self_Employed            No        No       Yes            No        No\n",
       "ApplicantIncome        5849      4583      3000          2583      6000\n",
       "CoapplicantIncome         0      1508         0          2358         0\n",
       "LoanAmount              NaN       128        66           120       141\n",
       "Loan_Amount_Term        360       360       360           360       360\n",
       "Credit_History            1         1         1             1         1\n",
       "Property_Area         Urban     Rural     Urban         Urban     Urban\n",
       "Loan_Status               Y         N         Y             Y         Y"
      ]
     },
     "execution_count": 14,
     "metadata": {},
     "output_type": "execute_result"
    }
   ],
   "source": [
    "file_df.head().T"
   ]
  },
  {
   "cell_type": "code",
   "execution_count": 15,
   "id": "floppy-classic",
   "metadata": {},
   "outputs": [],
   "source": [
    "file_df1 = file_df.drop(labels=[\"Loan_ID\"],axis=1)"
   ]
  },
  {
   "cell_type": "code",
   "execution_count": 16,
   "id": "traditional-elimination",
   "metadata": {
    "scrolled": true
   },
   "outputs": [
    {
     "data": {
      "text/plain": [
       "Y    422\n",
       "N    192\n",
       "Name: Loan_Status, dtype: int64"
      ]
     },
     "execution_count": 16,
     "metadata": {},
     "output_type": "execute_result"
    }
   ],
   "source": [
    "file_df[\"Loan_Status\"].value_counts()"
   ]
  },
  {
   "cell_type": "code",
   "execution_count": 17,
   "id": "labeled-tournament",
   "metadata": {},
   "outputs": [],
   "source": [
    "yes_df = file_df1[file_df1[\"Loan_Status\"] =='Y']"
   ]
  },
  {
   "cell_type": "code",
   "execution_count": 18,
   "id": "emotional-abortion",
   "metadata": {},
   "outputs": [],
   "source": [
    "no_df = file_df1[file_df1[\"Loan_Status\"] !='Y']"
   ]
  },
  {
   "cell_type": "code",
   "execution_count": 19,
   "id": "legendary-married",
   "metadata": {},
   "outputs": [
    {
     "data": {
      "text/plain": [
       "(422, 192)"
      ]
     },
     "execution_count": 19,
     "metadata": {},
     "output_type": "execute_result"
    }
   ],
   "source": [
    "len(yes_df) , len(no_df)"
   ]
  },
  {
   "cell_type": "code",
   "execution_count": 20,
   "id": "identified-approach",
   "metadata": {},
   "outputs": [],
   "source": [
    "final_df = pd.concat([no_df ,yes_df.sample(n=len(no_df)) ],ignore_index=True,copy=True)"
   ]
  },
  {
   "cell_type": "code",
   "execution_count": 21,
   "id": "virgin-exhibition",
   "metadata": {},
   "outputs": [
    {
     "data": {
      "text/plain": [
       "384"
      ]
     },
     "execution_count": 21,
     "metadata": {},
     "output_type": "execute_result"
    }
   ],
   "source": [
    "len(final_df)"
   ]
  },
  {
   "cell_type": "code",
   "execution_count": 22,
   "id": "residential-peace",
   "metadata": {},
   "outputs": [
    {
     "data": {
      "text/plain": [
       "Y    192\n",
       "N    192\n",
       "Name: Loan_Status, dtype: int64"
      ]
     },
     "execution_count": 22,
     "metadata": {},
     "output_type": "execute_result"
    }
   ],
   "source": [
    "final_df[\"Loan_Status\"].value_counts()"
   ]
  },
  {
   "cell_type": "code",
   "execution_count": 23,
   "id": "talented-treatment",
   "metadata": {},
   "outputs": [],
   "source": [
    "X = final_df.iloc[:,:-1]\n",
    "y = final_df.iloc[:,-1]"
   ]
  },
  {
   "cell_type": "code",
   "execution_count": 24,
   "id": "polished-phoenix",
   "metadata": {},
   "outputs": [],
   "source": [
    "# #Counter\n",
    "# counter = Counter(y)\n",
    "# counter"
   ]
  },
  {
   "cell_type": "code",
   "execution_count": 25,
   "id": "residential-elements",
   "metadata": {},
   "outputs": [],
   "source": [
    "# approval = file_df1[file_df1['Loan_Status'] == 'Y']\n",
    "# denial = file_df1[file_df1['Loan_Status'] == 'N']\n",
    "# print (approval.shape, denial.shape)"
   ]
  },
  {
   "cell_type": "code",
   "execution_count": 26,
   "id": "pending-gates",
   "metadata": {},
   "outputs": [],
   "source": [
    "# from imblearn.combine import SMOTETomek\n",
    "# from imblearn.under_sampling import NearMiss\n",
    "\n",
    "# smk = SMOTETomek(random_state=42)\n",
    "# X_res, y_res = smk.fit_sample(X,Y)\n",
    "\n",
    "# X_res.shape, y_res.shape"
   ]
  },
  {
   "cell_type": "code",
   "execution_count": 27,
   "id": "athletic-diabetes",
   "metadata": {},
   "outputs": [
    {
     "data": {
      "text/plain": [
       "['Gender',\n",
       " 'Married',\n",
       " 'Dependents',\n",
       " 'Education',\n",
       " 'Self_Employed',\n",
       " 'Property_Area']"
      ]
     },
     "execution_count": 27,
     "metadata": {},
     "output_type": "execute_result"
    }
   ],
   "source": [
    "#Categorical variables\n",
    "cat_col = X.select_dtypes(include=\"object\").columns.to_list()\n",
    "cat_col"
   ]
  },
  {
   "cell_type": "code",
   "execution_count": 28,
   "id": "indie-simulation",
   "metadata": {},
   "outputs": [
    {
     "data": {
      "text/plain": [
       "['ApplicantIncome',\n",
       " 'CoapplicantIncome',\n",
       " 'LoanAmount',\n",
       " 'Loan_Amount_Term',\n",
       " 'Credit_History']"
      ]
     },
     "execution_count": 28,
     "metadata": {},
     "output_type": "execute_result"
    }
   ],
   "source": [
    "#Numerical variables\n",
    "num_col = X.select_dtypes(exclude=\"object\").columns.to_list()\n",
    "num_col"
   ]
  },
  {
   "cell_type": "code",
   "execution_count": 29,
   "id": "interesting-origin",
   "metadata": {},
   "outputs": [],
   "source": [
    "# # #Resampling before split - Does not work bc values have to be one hot encoded\n",
    "# over = SMOTE(sampling_strategy=0.1)\n",
    "# under = RandomUnderSampler(sampling_strategy=0.5)\n",
    "# steps = [('o', over), ('u', under)]\n",
    "# pipeline = Pipeline(steps=steps)\n",
    "# X, y = pipeline.fit_resample(X, y)"
   ]
  },
  {
   "cell_type": "code",
   "execution_count": 30,
   "id": "psychological-surgery",
   "metadata": {},
   "outputs": [],
   "source": [
    "#Train Test Split\n",
    "X_train, X_test, y_train, y_test = train_test_split(X, y,stratify=y, random_state=42)"
   ]
  },
  {
   "cell_type": "code",
   "execution_count": 31,
   "id": "religious-detail",
   "metadata": {},
   "outputs": [],
   "source": [
    "#Logistic Regression (tried not used in finale model)\n",
    "lg = LogisticRegression( max_iter= 400 ,n_jobs= -1 ,l1_ratio= .2)"
   ]
  },
  {
   "cell_type": "code",
   "execution_count": 32,
   "id": "alpha-cuisine",
   "metadata": {},
   "outputs": [],
   "source": [
    "lg = GradientBoostingClassifier(n_estimators=4000,learning_rate=0.05,\n",
    "#                                 max_depth=6,\n",
    "                               validation_fraction=0.2,\n",
    "                               n_iter_no_change=10, tol=0.01,\n",
    "                               random_state=42)"
   ]
  },
  {
   "cell_type": "code",
   "execution_count": 33,
   "id": "prime-relevance",
   "metadata": {},
   "outputs": [],
   "source": [
    "categorical_pipe = Pipeline([\n",
    "    ('imputer', SimpleImputer(strategy='constant', fill_value='missing')),\n",
    "    ('onehot', OneHotEncoder(handle_unknown='ignore'))\n",
    "])\n",
    "\n",
    "numerical_pipe = Pipeline([\n",
    "    ('imputer', SimpleImputer(strategy='median')),\n",
    "    ('scaler', StandardScaler())\n",
    "])\n",
    "\n",
    "\n",
    "\n",
    "preprocessing = ColumnTransformer(\n",
    "    [('cat', categorical_pipe, cat_col),\n",
    "     ('num', numerical_pipe, num_col)]\n",
    "    )\n",
    "\n",
    "\n",
    "rf = Pipeline([\n",
    "    ('preprocess', preprocessing),\n",
    "    ('feature_selection', SelectFromModel(lg, prefit=False)),\n",
    "    ('classifier', lg)\n",
    "])\n"
   ]
  },
  {
   "cell_type": "code",
   "execution_count": 34,
   "id": "after-scoop",
   "metadata": {},
   "outputs": [],
   "source": [
    "# over = SMOTE(sampling_strategy=0.1)\n",
    "# under = RandomUnderSampler(sampling_strategy=0.5)\n",
    "# steps = [('o', over), ('u', under)]\n",
    "# pipeline = Pipeline(steps=steps)\n",
    "# X_train, y_train = pipeline.fit_resample(X_train, y_train) #X and y train are not one hot encoded"
   ]
  },
  {
   "cell_type": "code",
   "execution_count": 35,
   "id": "collect-bride",
   "metadata": {},
   "outputs": [],
   "source": [
    "#Fit the model\n",
    "rf.fit(X_train,y_train);"
   ]
  },
  {
   "cell_type": "code",
   "execution_count": 36,
   "id": "front-regression",
   "metadata": {},
   "outputs": [
    {
     "name": "stdout",
     "output_type": "stream",
     "text": [
      "RF train accuracy: 0.781\n",
      "RF test accuracy: 0.729\n"
     ]
    }
   ],
   "source": [
    "print(\"RF train accuracy: %0.3f\" % rf.score(X_train, y_train))\n",
    "print(\"RF test accuracy: %0.3f\" % rf.score(X_test, y_test))\n"
   ]
  },
  {
   "cell_type": "code",
   "execution_count": 37,
   "id": "dense-astrology",
   "metadata": {},
   "outputs": [],
   "source": [
    "#Incorrect\n",
    "# print(\"R2\" % rf.f1_score(X_test, y_test))"
   ]
  },
  {
   "cell_type": "code",
   "execution_count": 38,
   "id": "revised-ethics",
   "metadata": {},
   "outputs": [],
   "source": [
    "y_pred = rf.predict(X_test)"
   ]
  },
  {
   "cell_type": "code",
   "execution_count": 39,
   "id": "accessory-samba",
   "metadata": {},
   "outputs": [],
   "source": [
    "# ### Cannot plot categorical data\n",
    "# predictions = rf.predict(X_test)\n",
    "# #model.fit(X_train_scaled, y_train_scaled)\n",
    "# plt.scatter(rf.predict(X_train), rf.predict(X_train) - y_train, c=\"blue\", label=\"Training Data\")\n",
    "# plt.scatter(rf.predict(X_test), rf.predict(X_test) - y_test, c=\"orange\", label=\"Testing Data\")\n",
    "# plt.legend()\n",
    "# #plt.hlines(y=0, xmin=y_test_scaled.min(), xmax=y_test_scaled.max())\n",
    "# plt.title(\"Residual Plot\")\n",
    "\n",
    "\n",
    "# # calculate roc curve\n",
    "# # fpr, tpr, thresholds = roc_curve(testy, pos_probs)\n",
    "\n",
    "# # # calculate roc curve\n",
    "# # fpr, tpr, thresholds = roc_curve(testy, pos_probs)\n",
    "\n",
    "# plt.show()"
   ]
  },
  {
   "cell_type": "code",
   "execution_count": 40,
   "id": "laughing-wyoming",
   "metadata": {},
   "outputs": [
    {
     "name": "stdout",
     "output_type": "stream",
     "text": [
      "              precision    recall  f1-score   support\n",
      "\n",
      "           N       0.75      0.69      0.72        48\n",
      "           Y       0.71      0.77      0.74        48\n",
      "\n",
      "    accuracy                           0.73        96\n",
      "   macro avg       0.73      0.73      0.73        96\n",
      "weighted avg       0.73      0.73      0.73        96\n",
      "\n"
     ]
    }
   ],
   "source": [
    "#Classification report\n",
    "print(classification_report(y_test, y_pred))"
   ]
  },
  {
   "cell_type": "code",
   "execution_count": 41,
   "id": "dental-rhythm",
   "metadata": {},
   "outputs": [],
   "source": [
    "def get_feature_names(column_transformer):\n",
    "    \"\"\"Get feature names from all transformers.\n",
    "    Returns\n",
    "    -------\n",
    "    feature_names : list of strings\n",
    "        Names of the features produced by transform.\n",
    "    \"\"\"\n",
    "    # Remove the internal helper function\n",
    "    #check_is_fitted(column_transformer)\n",
    "    \n",
    "    # Turn loopkup into function for better handling with pipeline later\n",
    "    def get_names(trans):\n",
    "        # >> Original get_feature_names() method\n",
    "        if trans == 'drop' or (\n",
    "                hasattr(column, '__len__') and not len(column)):\n",
    "            return []\n",
    "        if trans == 'passthrough':\n",
    "            if hasattr(column_transformer, '_df_columns'):\n",
    "                if ((not isinstance(column, slice))\n",
    "                        and all(isinstance(col, str) for col in column)):\n",
    "                    return column\n",
    "                else:\n",
    "                    return column_transformer._df_columns[column]\n",
    "            else:\n",
    "                indices = np.arange(column_transformer._n_features)\n",
    "                return ['x%d' % i for i in indices[column]]\n",
    "        if not hasattr(trans, 'get_feature_names'):\n",
    "        # >>> Change: Return input column names if no method avaiable\n",
    "            # Turn error into a warning\n",
    "            warnings.warn(\"Transformer %s (type %s) does not \"\n",
    "                                 \"provide get_feature_names. \"\n",
    "                                 \"Will return input column names if available\"\n",
    "                                 % (str(name), type(trans).__name__))\n",
    "            # For transformers without a get_features_names method, use the input\n",
    "            # names to the column transformer\n",
    "            if column is None:\n",
    "                return []\n",
    "            else:\n",
    "                return [name + \"__\" + f for f in column]\n",
    "\n",
    "        return [name + \"__\" + f for f in trans.get_feature_names()]\n",
    "    \n",
    "    ### Start of processing\n",
    "    feature_names = []\n",
    "    \n",
    "    # Allow transformers to be pipelines. Pipeline steps are named differently, so preprocessing is needed\n",
    "    if type(column_transformer) == sklearn.pipeline.Pipeline:\n",
    "        l_transformers = [(name, trans, None, None) for step, name, trans in column_transformer._iter()]\n",
    "    else:\n",
    "        # For column transformers, follow the original method\n",
    "        l_transformers = list(column_transformer._iter(fitted=True))\n",
    "    \n",
    "    \n",
    "    for name, trans, column, _ in l_transformers: \n",
    "        if type(trans) == sklearn.pipeline.Pipeline:\n",
    "            # Recursive call on pipeline\n",
    "            _names = get_feature_names(trans)\n",
    "            # if pipeline has no transformer that returns names\n",
    "            if len(_names)==0:\n",
    "                _names = [name + \"__\" + f for f in column]\n",
    "            feature_names.extend(_names)\n",
    "        else:\n",
    "            feature_names.extend(get_names(trans))\n",
    "    \n",
    "    return feature_names"
   ]
  },
  {
   "cell_type": "code",
   "execution_count": 42,
   "id": "stretch-decline",
   "metadata": {},
   "outputs": [
    {
     "name": "stderr",
     "output_type": "stream",
     "text": [
      "/Users/medinai/opt/anaconda3/envs/PythonAdv/lib/python3.6/site-packages/ipykernel_launcher.py:33: UserWarning: Transformer imputer (type SimpleImputer) does not provide get_feature_names. Will return input column names if available\n",
      "/Users/medinai/opt/anaconda3/envs/PythonAdv/lib/python3.6/site-packages/ipykernel_launcher.py:33: UserWarning: Transformer scaler (type StandardScaler) does not provide get_feature_names. Will return input column names if available\n"
     ]
    }
   ],
   "source": [
    "name_arr = np.array(get_feature_names(rf.steps[0][1]))"
   ]
  },
  {
   "cell_type": "code",
   "execution_count": 43,
   "id": "terminal-custody",
   "metadata": {},
   "outputs": [],
   "source": [
    "# name_arr"
   ]
  },
  {
   "cell_type": "code",
   "execution_count": 44,
   "id": "brutal-courage",
   "metadata": {},
   "outputs": [],
   "source": [
    "# coef = rf.steps[1][1].estimator_.coef_\n",
    "# coef[0].shape"
   ]
  },
  {
   "cell_type": "code",
   "execution_count": 45,
   "id": "lyric-muscle",
   "metadata": {},
   "outputs": [
    {
     "name": "stderr",
     "output_type": "stream",
     "text": [
      "/Users/medinai/opt/anaconda3/envs/PythonAdv/lib/python3.6/site-packages/ipykernel_launcher.py:33: UserWarning: Transformer imputer (type SimpleImputer) does not provide get_feature_names. Will return input column names if available\n",
      "/Users/medinai/opt/anaconda3/envs/PythonAdv/lib/python3.6/site-packages/ipykernel_launcher.py:33: UserWarning: Transformer scaler (type StandardScaler) does not provide get_feature_names. Will return input column names if available\n",
      "/Users/medinai/opt/anaconda3/envs/PythonAdv/lib/python3.6/site-packages/ipykernel_launcher.py:5: UserWarning: FixedFormatter should only be used together with FixedLocator\n",
      "  \"\"\"\n"
     ]
    },
    {
     "data": {
      "image/png": "[encoded data removed]",
      "text/plain": [
       "<Figure size 720x720 with 1 Axes>"
      ]
     },
     "metadata": {
      "needs_background": "light"
     },
     "output_type": "display_data"
    }
   ],
   "source": [
    "y_ticks = np.arange(0, 20)\n",
    "sorted_idx = rf.steps[1][1].estimator_.feature_importances_.argsort()\n",
    "fig, ax = plt.subplots(figsize=(10,10))\n",
    "ax.barh(np.array(get_feature_names(rf.steps[0][1]))[sorted_idx][-20:], rf.steps[1][1].estimator_.feature_importances_[sorted_idx][-20:])\n",
    "ax.set_yticklabels(np.array(get_feature_names(rf.steps[0][1]))[sorted_idx][-20:])\n",
    "ax.set_yticks(y_ticks)\n",
    "ax.set_title(\"Random Forest Feature Importances (MDI)\")\n",
    "fig.tight_layout()\n",
    "plt.show()"
   ]
  },
  {
   "cell_type": "code",
   "execution_count": 46,
   "id": "complete-technician",
   "metadata": {},
   "outputs": [
    {
     "data": {
      "text/plain": [
       "{'Gender': 'Male',\n",
       " 'Married': 'Yes',\n",
       " 'Dependents': '2',\n",
       " 'Education': 'Graduate',\n",
       " 'Self_Employed': 'No',\n",
       " 'ApplicantIncome': 3159,\n",
       " 'CoapplicantIncome': 461.0,\n",
       " 'LoanAmount': 108.0,\n",
       " 'Loan_Amount_Term': 84.0,\n",
       " 'Credit_History': 1.0,\n",
       " 'Property_Area': 'Urban'}"
      ]
     },
     "execution_count": 46,
     "metadata": {},
     "output_type": "execute_result"
    }
   ],
   "source": [
    "X_train.iloc[1,:].to_dict()"
   ]
  },
  {
   "cell_type": "code",
   "execution_count": 47,
   "id": "variable-carol",
   "metadata": {},
   "outputs": [
    {
     "data": {
      "text/html": [
       "<div>\n",
       "<style scoped>\n",
       "    .dataframe tbody tr th:only-of-type {\n",
       "        vertical-align: middle;\n",
       "    }\n",
       "\n",
       "    .dataframe tbody tr th {\n",
       "        vertical-align: top;\n",
       "    }\n",
       "\n",
       "    .dataframe thead th {\n",
       "        text-align: right;\n",
       "    }\n",
       "</style>\n",
       "<table border=\"1\" class=\"dataframe\">\n",
       "  <thead>\n",
       "    <tr style=\"text-align: right;\">\n",
       "      <th></th>\n",
       "      <th>Gender</th>\n",
       "      <th>Married</th>\n",
       "      <th>Dependents</th>\n",
       "      <th>Education</th>\n",
       "      <th>Self_Employed</th>\n",
       "      <th>ApplicantIncome</th>\n",
       "      <th>CoapplicantIncome</th>\n",
       "      <th>LoanAmount</th>\n",
       "      <th>Loan_Amount_Term</th>\n",
       "      <th>Credit_History</th>\n",
       "      <th>Property_Area</th>\n",
       "    </tr>\n",
       "  </thead>\n",
       "  <tbody>\n",
       "    <tr>\n",
       "      <th>0</th>\n",
       "      <td>Male</td>\n",
       "      <td>Yes</td>\n",
       "      <td>2</td>\n",
       "      <td>Graduate</td>\n",
       "      <td>No</td>\n",
       "      <td>3100</td>\n",
       "      <td>1400.0</td>\n",
       "      <td>113.0</td>\n",
       "      <td>360.0</td>\n",
       "      <td>1.0</td>\n",
       "      <td>Urban</td>\n",
       "    </tr>\n",
       "  </tbody>\n",
       "</table>\n",
       "</div>"
      ],
      "text/plain": [
       "  Gender Married Dependents Education Self_Employed  ApplicantIncome  \\\n",
       "0   Male     Yes          2  Graduate            No             3100   \n",
       "\n",
       "   CoapplicantIncome  LoanAmount  Loan_Amount_Term  Credit_History  \\\n",
       "0             1400.0       113.0             360.0             1.0   \n",
       "\n",
       "  Property_Area  \n",
       "0         Urban  "
      ]
     },
     "execution_count": 47,
     "metadata": {},
     "output_type": "execute_result"
    }
   ],
   "source": [
    "pd.DataFrame.from_dict({'Gender': ['Male'],\n",
    " 'Married': ['Yes'],\n",
    " 'Dependents': ['2'],\n",
    " 'Education': ['Graduate'],\n",
    " 'Self_Employed': ['No'],\n",
    " 'ApplicantIncome': [3100],\n",
    " 'CoapplicantIncome': [1400.0],\n",
    " 'LoanAmount': [113.0],\n",
    " 'Loan_Amount_Term': [360.0],\n",
    " 'Credit_History': [1.0],\n",
    " 'Property_Area': 'Urban'})"
   ]
  },
  {
   "cell_type": "code",
   "execution_count": 48,
   "id": "qualified-breathing",
   "metadata": {},
   "outputs": [
    {
     "data": {
      "text/plain": [
       "'Y'"
      ]
     },
     "execution_count": 48,
     "metadata": {},
     "output_type": "execute_result"
    }
   ],
   "source": [
    "rf.predict(pd.DataFrame.from_dict({'Gender': ['Male'],\n",
    " 'Married': ['Yes'],\n",
    " 'Dependents': ['0'],\n",
    " 'Education': ['Graduate'],\n",
    " 'Self_Employed': ['No'],\n",
    " 'ApplicantIncome': [3100],\n",
    " 'CoapplicantIncome': [14000.0],\n",
    " 'LoanAmount': [113.0],\n",
    " 'Loan_Amount_Term': [360.0],\n",
    " 'Credit_History': [1.0],\n",
    " 'Property_Area': ['Urban']}))[0]"
   ]
  },
  {
   "cell_type": "markdown",
   "id": "significant-diana",
   "metadata": {},
   "source": [
    "- post requist from the front end and the body will be json object \n",
    "\n",
    "```\n",
    "{'Gender': 'Male',\n",
    " 'Married': 'Yes',\n",
    " 'Dependents': '2',\n",
    " 'Education': 'Graduate',\n",
    " 'Self_Employed': 'No',\n",
    " 'ApplicantIncome': 3100,\n",
    " 'CoapplicantIncome': 1400.0,\n",
    " 'LoanAmount': 113.0,\n",
    " 'Loan_Amount_Term': 360.0,\n",
    " 'Credit_History': 1.0,\n",
    " 'Property_Area': 'Urban'}\n",
    "```\n",
    "\n",
    "- on the backend in the flask app \n",
    "\n",
    "```\n",
    "{Gender,\n",
    " Married,\n",
    " Dependents,\n",
    " Education,\n",
    " Self_Employed,\n",
    " ApplicantIncome,\n",
    " CoapplicantIncome,\n",
    " LoanAmount,\n",
    " Loan_Amount_Term,\n",
    " Credit_History,\n",
    " Property_Area}= requist.body\n",
    "```\n",
    "\n",
    "- usr the model like this \n",
    "\n",
    "```\n",
    "rf.predict(pd.DataFrame.from_dict({'Gender': [Gender],\n",
    " 'Married': [Married],\n",
    " 'Dependents': [Dependents],\n",
    " 'Education': ['Graduate'],\n",
    " 'Self_Employed': ['No'],\n",
    " 'ApplicantIncome': [3100],\n",
    " 'CoapplicantIncome': [1400.0],\n",
    " 'LoanAmount': [113.0],\n",
    " 'Loan_Amount_Term': [360.0],\n",
    " 'Credit_History': [1.0],\n",
    " 'Property_Area': ['Urban']}))[0]\n",
    " ```"
   ]
  },
  {
   "cell_type": "code",
   "execution_count": 49,
   "id": "banned-effects",
   "metadata": {},
   "outputs": [
    {
     "name": "stdout",
     "output_type": "stream",
     "text": [
      "0.7291666666666666\n"
     ]
    }
   ],
   "source": [
    "#Saving model with joblib\n",
    "# save the model to disk\n",
    "import joblib\n",
    "filename = 'balanced_model.sav'\n",
    "joblib.dump(rf, filename)\n",
    " \n",
    "#load the model from disk\n",
    "loaded_model = joblib.load(filename)\n",
    "result = loaded_model.score(X_test, y_test)\n",
    "print(result)\n"
   ]
  },
  {
   "cell_type": "code",
   "execution_count": 50,
   "id": "certain-authentication",
   "metadata": {},
   "outputs": [
    {
     "name": "stdout",
     "output_type": "stream",
     "text": [
      "0.7291666666666666\n"
     ]
    }
   ],
   "source": [
    "# Saving model with pickle\n",
    "import pickle\n",
    "\n",
    "# save the model to disk\n",
    "filename_pickle = 'balanced_model_pickle.sav'\n",
    "pickle.dump(rf, open(filename_pickle, 'wb'))\n",
    "\n",
    "# load the model from disk\n",
    "loaded_model_pickle = pickle.load(open(filename_pickle, 'rb'))\n",
    "result_pickle = loaded_model_pickle.score(X_test, y_test)\n",
    "print(result_pickle)\n"
   ]
  },
  {
   "cell_type": "code",
   "execution_count": null,
   "id": "abandoned-senior",
   "metadata": {},
   "outputs": [],
   "source": []
  }
 ],
 "metadata": {
  "kernelspec": {
   "display_name": "Python [conda env:PythonAdv] *",
   "language": "python",
   "name": "conda-env-PythonAdv-py"
  },
  "language_info": {
   "codemirror_mode": {
    "name": "ipython",
    "version": 3
   },
   "file_extension": ".py",
   "mimetype": "text/x-python",
   "name": "python",
   "nbconvert_exporter": "python",
   "pygments_lexer": "ipython3",
   "version": "3.6.12"
  }
 },
 "nbformat": 4,
 "nbformat_minor": 5
}
